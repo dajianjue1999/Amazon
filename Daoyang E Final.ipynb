{
 "cells": [
  {
   "cell_type": "code",
   "execution_count": 1,
   "metadata": {},
   "outputs": [],
   "source": [
    "import numpy as np\n",
    "import matplotlib.pyplot as plt\n",
    "import pandas as pd"
   ]
  },
  {
   "cell_type": "code",
   "execution_count": 2,
   "metadata": {},
   "outputs": [],
   "source": [
    "from sklearn import datasets, linear_model\n",
    "from sklearn.model_selection import train_test_split\n",
    "from matplotlib import pyplot as plt"
   ]
  },
  {
   "cell_type": "code",
   "execution_count": 3,
   "metadata": {},
   "outputs": [],
   "source": [
    "from sklearn.preprocessing import OneHotEncoder\n",
    "from pandas import get_dummies"
   ]
  },
  {
   "cell_type": "code",
   "execution_count": 4,
   "metadata": {},
   "outputs": [],
   "source": [
    "from sklearn.decomposition import PCA\n",
    "from sklearn.preprocessing import StandardScaler\n",
    "from sklearn.tree import DecisionTreeClassifier\n",
    "from sklearn.model_selection import cross_val_score"
   ]
  },
  {
   "cell_type": "code",
   "execution_count": 5,
   "metadata": {},
   "outputs": [],
   "source": [
    "from sklearn.pipeline import Pipeline"
   ]
  },
  {
   "cell_type": "code",
   "execution_count": 6,
   "metadata": {},
   "outputs": [],
   "source": [
    "from sklearn.model_selection import GridSearchCV\n",
    "from sklearn.model_selection import learning_curve"
   ]
  },
  {
   "cell_type": "code",
   "execution_count": 7,
   "metadata": {},
   "outputs": [],
   "source": [
    "from sklearn.linear_model import LogisticRegression\n",
    "from sklearn.ensemble import RandomForestClassifier\n",
    "from sklearn.datasets import make_classification"
   ]
  },
  {
   "cell_type": "code",
   "execution_count": 8,
   "metadata": {},
   "outputs": [],
   "source": [
    "from sklearn.feature_selection import SelectFromModel"
   ]
  },
  {
   "cell_type": "code",
   "execution_count": 9,
   "metadata": {},
   "outputs": [],
   "source": [
    "from sklearn.ensemble import BaggingClassifier"
   ]
  },
  {
   "cell_type": "code",
   "execution_count": 10,
   "metadata": {},
   "outputs": [
    {
     "name": "stdout",
     "output_type": "stream",
     "text": [
      "Collecting package metadata (current_repodata.json): done\n",
      "Solving environment: done\n",
      "\n",
      "\n",
      "==> WARNING: A newer version of conda exists. <==\n",
      "  current version: 4.8.2\n",
      "  latest version: 4.8.4\n",
      "\n",
      "Please update conda by running\n",
      "\n",
      "    $ conda update -n base conda\n",
      "\n",
      "\n",
      "\n",
      "## Package Plan ##\n",
      "\n",
      "  environment location: /srv/conda/envs/notebook\n",
      "\n",
      "  added / updated specs:\n",
      "    - imbalanced-learn\n",
      "\n",
      "\n",
      "The following packages will be downloaded:\n",
      "\n",
      "    package                    |            build\n",
      "    ---------------------------|-----------------\n",
      "    ca-certificates-2020.6.20  |       hecda079_0         145 KB  conda-forge\n",
      "    certifi-2020.6.20          |   py36h9f0ad1d_0         151 KB  conda-forge\n",
      "    imbalanced-learn-0.7.0     |             py_1          97 KB  conda-forge\n",
      "    openssl-1.1.1g             |       h516909a_1         2.1 MB  conda-forge\n",
      "    ------------------------------------------------------------\n",
      "                                           Total:         2.5 MB\n",
      "\n",
      "The following NEW packages will be INSTALLED:\n",
      "\n",
      "  imbalanced-learn   conda-forge/noarch::imbalanced-learn-0.7.0-py_1\n",
      "\n",
      "The following packages will be UPDATED:\n",
      "\n",
      "  ca-certificates                     2020.4.5.2-hecda079_0 --> 2020.6.20-hecda079_0\n",
      "  certifi                         2020.4.5.2-py36h9f0ad1d_0 --> 2020.6.20-py36h9f0ad1d_0\n",
      "  openssl                                 1.1.1g-h516909a_0 --> 1.1.1g-h516909a_1\n",
      "\n",
      "\n",
      "\n",
      "Downloading and Extracting Packages\n",
      "imbalanced-learn-0.7 | 97 KB     | ##################################### | 100% \n",
      "ca-certificates-2020 | 145 KB    | ##################################### | 100% \n",
      "certifi-2020.6.20    | 151 KB    | ##################################### | 100% \n",
      "openssl-1.1.1g       | 2.1 MB    | ##################################### | 100% \n",
      "Preparing transaction: done\n",
      "Verifying transaction: done\n",
      "Executing transaction: done\n",
      "\n",
      "Note: you may need to restart the kernel to use updated packages.\n"
     ]
    }
   ],
   "source": [
    "conda install -c conda-forge imbalanced-learn"
   ]
  },
  {
   "cell_type": "code",
   "execution_count": 11,
   "metadata": {},
   "outputs": [],
   "source": [
    "from imblearn.over_sampling import RandomOverSampler\n",
    "from imblearn.pipeline import Pipeline"
   ]
  },
  {
   "cell_type": "code",
   "execution_count": 12,
   "metadata": {},
   "outputs": [],
   "source": [
    "train = pd.read_csv('Training.csv')\n",
    "test = pd.read_csv('Test.csv')"
   ]
  },
  {
   "cell_type": "code",
   "execution_count": 13,
   "metadata": {},
   "outputs": [
    {
     "name": "stdout",
     "output_type": "stream",
     "text": [
      "         ID  response                                 IL1  \\\n",
      "0      4569         1  Account Assistance / Mycd Settings   \n",
      "1      4402         0                            Freetime   \n",
      "2      9533         0                             Content   \n",
      "3      9981         0                       Kindle Tablet   \n",
      "4      1849         0                             Content   \n",
      "...     ...       ...                                 ...   \n",
      "6810   3650         0                                 Wms   \n",
      "6811  11029         1    Wms / Order Support / Edge-Cases   \n",
      "6812  10997         0                             Content   \n",
      "6813   7784         0                                 NaN   \n",
      "6814  10269         0                  Kindle Tablet Apps   \n",
      "\n",
      "                                    IL2                                 IL3  \\\n",
      "0                    Payment Assistance                       1-Click Setup   \n",
      "1     Freetime Unlimited / Subscription                              Refund   \n",
      "2                       Content Quality                Corrupt - Won'T Open   \n",
      "3                       Alexa On Tablet                 Basic Info / How-To   \n",
      "4        Book Syncing & Download Issues                Stuck In To Do Queue   \n",
      "...                                 ...                                 ...   \n",
      "6810     Still Within Delivery Estimate  Carrier Lost Package - Blacklisted   \n",
      "6811                 Incomplete Contact             Abusive / Inappropriate   \n",
      "6812                   Kindle Unlimited       Payment / Subscription Issues   \n",
      "6813                                NaN                                 NaN   \n",
      "6814                           Book App            Unable To Download Books   \n",
      "\n",
      "                                       IL4              CIL1           CIL2  \\\n",
      "0     C. Education - Instructions Provided               NaN            NaN   \n",
      "1                                      NaN               NaN            NaN   \n",
      "2                          Updated Content               NaN            NaN   \n",
      "3              C. Education - General Info               NaN            NaN   \n",
      "4               Hard Restart - Fixed Issue               NaN            NaN   \n",
      "...                                    ...               ...            ...   \n",
      "6810                                   NaN  Carnac Suggested  Order Related   \n",
      "6811                       Customer Threat               NaN            NaN   \n",
      "6812                 Subscription Refunded               NaN            NaN   \n",
      "6813                                   NaN               NaN            NaN   \n",
      "6814                 Restart - Fixed Issue               NaN            NaN   \n",
      "\n",
      "     CIL3 CLI4  prime  score1    score2  score3  score4  score5  contact_type  \\\n",
      "0     NaN  NaN      0    0.05       NaN     NaN     NaN     NaN           NaN   \n",
      "1     NaN  NaN      0    0.10       NaN     NaN     NaN     NaN           NaN   \n",
      "2     NaN  NaN      1    2.00       NaN     NaN     NaN     NaN           NaN   \n",
      "3     NaN  NaN      0    0.00       NaN     NaN     NaN     NaN           NaN   \n",
      "4     NaN  NaN      0    1.25       NaN     NaN     NaN     NaN           NaN   \n",
      "...   ...  ...    ...     ...       ...     ...     ...     ...           ...   \n",
      "6810  NaN  NaN      1    0.00       NaN     NaN     NaN     NaN           NaN   \n",
      "6811  NaN  NaN      0    0.00  0.621632    75.0    8.33   44.44           0.0   \n",
      "6812  NaN  NaN      0     NaN       NaN     NaN     NaN     NaN           NaN   \n",
      "6813  NaN  NaN      1    0.00       NaN     NaN     NaN     NaN           NaN   \n",
      "6814  NaN  NaN      0    0.25  0.205320     0.0    0.00    0.00           0.0   \n",
      "\n",
      "      day  hour device  \n",
      "0       3     8   D-51  \n",
      "1       3     4   D-37  \n",
      "2       0    15   D-24  \n",
      "3       1     8   D-16  \n",
      "4       5     7    D-6  \n",
      "...   ...   ...    ...  \n",
      "6810    2    10   D-49  \n",
      "6811    2    11   D-53  \n",
      "6812    1     9   D-16  \n",
      "6813    4     8   D-70  \n",
      "6814    3    11   D-17  \n",
      "\n",
      "[6815 rows x 20 columns]\n"
     ]
    }
   ],
   "source": [
    "print(train)"
   ]
  },
  {
   "cell_type": "code",
   "execution_count": 14,
   "metadata": {},
   "outputs": [],
   "source": [
    "train = train.fillna(train[['score1','score2','score3','score4','score5']].mean())\n",
    "test = test.fillna(train[['score1','score2','score3','score4','score5']].mean())\n"
   ]
  },
  {
   "cell_type": "code",
   "execution_count": 15,
   "metadata": {},
   "outputs": [],
   "source": [
    "train[['IL1','IL2','IL3','IL4','CIL1','CIL2','CIL3','CLI4','contact_type']] =train[['IL1','IL2','IL3','IL4','CIL1','CIL2','CIL3','CLI4','contact_type']].fillna('Not Specified')\n",
    "test[['IL1','IL2','IL3','IL4','CIL1','CIL2','CIL3','CLI4','contact_type']] =test[['IL1','IL2','IL3','IL4','CIL1','CIL2','CIL3','CLI4','contact_type']].fillna('Not Specified')"
   ]
  },
  {
   "cell_type": "code",
   "execution_count": 16,
   "metadata": {},
   "outputs": [],
   "source": [
    "categorical_columns =['IL1','IL2','IL3','IL4','CIL1','CIL2','CIL3','CLI4','device','contact_type']"
   ]
  },
  {
   "cell_type": "code",
   "execution_count": 17,
   "metadata": {},
   "outputs": [],
   "source": [
    "for c in categorical_columns:\n",
    "    unique_elements = pd.concat([train[c],test[c]]).unique().tolist()\n",
    "    train[c] = train[c].astype('category').cat.set_categories(unique_elements)\n",
    "    test[c] = test[c].astype('category').cat.set_categories(unique_elements)"
   ]
  },
  {
   "cell_type": "code",
   "execution_count": 18,
   "metadata": {},
   "outputs": [],
   "source": [
    "train_oneHot = pd.get_dummies(train)\n",
    "test_oneHot = pd.get_dummies(test)"
   ]
  },
  {
   "cell_type": "code",
   "execution_count": 19,
   "metadata": {},
   "outputs": [],
   "source": [
    "featureList = train_oneHot.columns.drop(['response','ID']).tolist()\n",
    "X = train_oneHot[featureList]\n",
    "y = train_oneHot['response']\n",
    "X_test = test_oneHot[featureList]"
   ]
  },
  {
   "cell_type": "code",
   "execution_count": 28,
   "metadata": {},
   "outputs": [],
   "source": [
    "pipe = Pipeline([\n",
    "    ('scaler', StandardScaler()),\n",
    "    ('pca', PCA()),\n",
    "    ('clf', DecisionTreeClassifier())\n",
    "])"
   ]
  },
  {
   "cell_type": "code",
   "execution_count": 29,
   "metadata": {},
   "outputs": [],
   "source": [
    "pipe = pipe.set_params(pca__n_components = 20, clf__class_weight={0:1,1:16})"
   ]
  },
  {
   "cell_type": "code",
   "execution_count": 30,
   "metadata": {},
   "outputs": [],
   "source": [
    "train_sizes, train_scores, valid_scores = learning_curve(pipe, X, y,scoring = 'f1')"
   ]
  },
  {
   "cell_type": "code",
   "execution_count": 31,
   "metadata": {},
   "outputs": [],
   "source": [
    "train_mean = np.mean(train_scores, axis=1)\n",
    "train_std = np.std(train_scores, axis=1)\n",
    "valid_mean = np.mean(valid_scores, axis=1)\n",
    "valid_std = np.std(valid_scores, axis=1)"
   ]
  },
  {
   "cell_type": "code",
   "execution_count": 32,
   "metadata": {},
   "outputs": [
    {
     "data": {
      "text/plain": [
       "Text(0, 0.5, 'F1 - Score')"
      ]
     },
     "execution_count": 32,
     "metadata": {},
     "output_type": "execute_result"
    },
    {
     "data": {
      "image/png": "[encoded data removed]",
      "text/plain": [
       "<Figure size 432x288 with 1 Axes>"
      ]
     },
     "metadata": {
      "needs_background": "light"
     },
     "output_type": "display_data"
    }
   ],
   "source": [
    "plt.xlabel(\"Training examples\")\n",
    "plt.ylabel(\"F1 - Score\")"
   ]
  },
  {
   "cell_type": "code",
   "execution_count": 43,
   "metadata": {},
   "outputs": [
    {
     "data": {
      "image/png": "[encoded data removed]",
      "text/plain": [
       "<Figure size 432x288 with 1 Axes>"
      ]
     },
     "metadata": {
      "needs_background": "light"
     },
     "output_type": "display_data"
    }
   ],
   "source": [
    "plt.fill_between(train_sizes, train_mean - train_std, train_mean + train_std,\n",
    "alpha=0.1, color=\"r\")\n",
    "plt.fill_between(train_sizes, valid_mean - valid_std, valid_mean + valid_std,\n",
    "alpha=0.1, color=\"g\")\n",
    "plt.plot(train_sizes, train_mean, 'o-', color=\"r\", label=\"Training score\")\n",
    "plt.plot(train_sizes, valid_mean, 'o-', color=\"g\", label=\"Cross-validation score\")\n",
    "plt.legend(loc=\"best\")\n",
    "plt.title(\"PCA Decision Tree Classifier\")\n",
    "plt.show()"
   ]
  },
  {
   "cell_type": "code",
   "execution_count": 40,
   "metadata": {},
   "outputs": [],
   "source": [
    "n_components = [5,20]\n",
    "max_depth = [5,10]\n",
    "class_weight=[{0:1,1:1},{0:1,1:4},{0:1,1:16},{0:1,1:64},\"balanced\"]"
   ]
  },
  {
   "cell_type": "code",
   "execution_count": 41,
   "metadata": {},
   "outputs": [
    {
     "data": {
      "text/plain": [
       "{'clf__class_weight': 'balanced', 'clf__max_depth': 10, 'pca__n_components': 5}"
      ]
     },
     "execution_count": 41,
     "metadata": {},
     "output_type": "execute_result"
    }
   ],
   "source": [
    "estimator = GridSearchCV(pipe, dict(pca__n_components=n_components, clf__max_depth = max_depth,clf__class_weight = class_weight), scoring = 'f1')\n",
    "estimator = estimator.fit(X, y)\n",
    "estimator.best_score_\n",
    "estimator.best_params_"
   ]
  },
  {
   "cell_type": "code",
   "execution_count": 42,
   "metadata": {
    "scrolled": true
   },
   "outputs": [
    {
     "data": {
      "text/plain": [
       "[<matplotlib.lines.Line2D at 0x7fa02e8f2908>]"
      ]
     },
     "execution_count": 42,
     "metadata": {},
     "output_type": "execute_result"
    },
    {
     "data": {
      "image/png": "[encoded data removed]",
      "text/plain": [
       "<Figure size 432x288 with 1 Axes>"
      ]
     },
     "metadata": {
      "needs_background": "light"
     },
     "output_type": "display_data"
    }
   ],
   "source": [
    "plt.plot(estimator.best_estimator_.named_steps['clf'].feature_importances_)"
   ]
  },
  {
   "cell_type": "code",
   "execution_count": 44,
   "metadata": {},
   "outputs": [],
   "source": [
    "pipe = pipe.set_params(pca__n_components = 5,clf__max_depth=10, clf__class_weight=\"balanced\")"
   ]
  },
  {
   "cell_type": "code",
   "execution_count": 45,
   "metadata": {},
   "outputs": [],
   "source": [
    "train_sizes, train_scores, valid_scores = learning_curve(pipe, X, y,scoring = 'f1',n_jobs=-1)"
   ]
  },
  {
   "cell_type": "code",
   "execution_count": 46,
   "metadata": {},
   "outputs": [],
   "source": [
    "train_mean = np.mean(train_scores, axis=1)\n",
    "train_std = np.std(train_scores, axis=1)\n",
    "valid_mean = np.mean(valid_scores, axis=1)\n",
    "valid_std = np.std(valid_scores, axis=1)"
   ]
  },
  {
   "cell_type": "code",
   "execution_count": 47,
   "metadata": {},
   "outputs": [
    {
     "data": {
      "text/plain": [
       "Text(0, 0.5, 'F1 - Score')"
      ]
     },
     "execution_count": 47,
     "metadata": {},
     "output_type": "execute_result"
    },
    {
     "data": {
      "image/png": "[encoded data removed]",
      "text/plain": [
       "<Figure size 432x288 with 1 Axes>"
      ]
     },
     "metadata": {
      "needs_background": "light"
     },
     "output_type": "display_data"
    }
   ],
   "source": [
    "plt.xlabel(\"Training examples\")\n",
    "plt.ylabel(\"F1 - Score\")"
   ]
  },
  {
   "cell_type": "code",
   "execution_count": 48,
   "metadata": {},
   "outputs": [
    {
     "data": {
      "image/png": "[encoded data removed]",
      "text/plain": [
       "<Figure size 432x288 with 1 Axes>"
      ]
     },
     "metadata": {
      "needs_background": "light"
     },
     "output_type": "display_data"
    }
   ],
   "source": [
    "plt.fill_between(train_sizes, train_mean - train_std, train_mean + train_std,\n",
    "alpha=0.1, color=\"r\")\n",
    "plt.fill_between(train_sizes, valid_mean - valid_std, valid_mean + valid_std,\n",
    "alpha=0.1, color=\"g\")\n",
    "plt.plot(train_sizes, train_mean, 'o-', color=\"r\", label=\"Training score\")\n",
    "plt.plot(train_sizes, valid_mean, 'o-', color=\"g\", label=\"Cross-validation score\")\n",
    "plt.legend(loc=\"best\")\n",
    "plt.title(\"PCA Decision Tree with Max Depth tuned\")\n",
    "plt.show()"
   ]
  },
  {
   "cell_type": "code",
   "execution_count": 49,
   "metadata": {},
   "outputs": [],
   "source": [
    "pipe_rf = Pipeline([\n",
    "    ('scaler', StandardScaler()),\n",
    "    ('rf', RandomForestClassifier())\n",
    "])"
   ]
  },
  {
   "cell_type": "code",
   "execution_count": 52,
   "metadata": {},
   "outputs": [],
   "source": [
    "n_estimators = [100,1000]\n",
    "max_depth = [5,10]\n",
    "max_features = [\"log2\",\"sqrt\"]\n",
    "class_weight =  [\"balanced\",\"balanced_subsample\"]\n",
    "min_weight_fraction_leaf = [0.0,0.001]"
   ]
  },
  {
   "cell_type": "code",
   "execution_count": 53,
   "metadata": {},
   "outputs": [
    {
     "data": {
      "text/plain": [
       "{'rf__class_weight': 'balanced_subsample',\n",
       " 'rf__max_depth': 10,\n",
       " 'rf__max_features': 'log2',\n",
       " 'rf__min_weight_fraction_leaf': 0.001,\n",
       " 'rf__n_estimators': 1000}"
      ]
     },
     "execution_count": 53,
     "metadata": {},
     "output_type": "execute_result"
    }
   ],
   "source": [
    "estimator = GridSearchCV(pipe_rf, dict(rf__n_estimators = n_estimators, rf__max_depth=max_depth, rf__max_features = max_features, rf__class_weight = class_weight,rf__min_weight_fraction_leaf = min_weight_fraction_leaf), scoring = 'f1')\n",
    "estimator = estimator.fit(X, y)\n",
    "estimator.best_score_\n",
    "estimator.best_params_"
   ]
  },
  {
   "cell_type": "code",
   "execution_count": 54,
   "metadata": {},
   "outputs": [
    {
     "data": {
      "text/plain": [
       "[<matplotlib.lines.Line2D at 0x7fa02e818400>]"
      ]
     },
     "execution_count": 54,
     "metadata": {},
     "output_type": "execute_result"
    },
    {
     "data": {
      "image/png": "[encoded data removed]",
      "text/plain": [
       "<Figure size 432x288 with 1 Axes>"
      ]
     },
     "metadata": {
      "needs_background": "light"
     },
     "output_type": "display_data"
    }
   ],
   "source": [
    "plt.plot(estimator.best_estimator_.named_steps['rf'].feature_importances_)"
   ]
  },
  {
   "cell_type": "code",
   "execution_count": 55,
   "metadata": {},
   "outputs": [],
   "source": [
    "pipe_random = pipe_rf.set_params(rf__n_estimators = 1000, rf__max_depth=10, rf__max_features = \"log2\", rf__class_weight = \"balanced_subsample\",rf__min_weight_fraction_leaf = 0.001\n",
    "                            )"
   ]
  },
  {
   "cell_type": "code",
   "execution_count": 56,
   "metadata": {},
   "outputs": [],
   "source": [
    "train_sizes, train_scores, valid_scores = learning_curve(pipe_random, X, y, scoring = 'f1',cv=5)"
   ]
  },
  {
   "cell_type": "code",
   "execution_count": 57,
   "metadata": {},
   "outputs": [],
   "source": [
    "train_mean = np.mean(train_scores, axis=1)\n",
    "train_std = np.std(train_scores, axis=1)\n",
    "valid_mean = np.mean(valid_scores, axis=1)\n",
    "valid_std = np.std(valid_scores, axis=1)"
   ]
  },
  {
   "cell_type": "code",
   "execution_count": 58,
   "metadata": {},
   "outputs": [
    {
     "data": {
      "text/plain": [
       "Text(0, 0.5, 'F1 - Score')"
      ]
     },
     "execution_count": 58,
     "metadata": {},
     "output_type": "execute_result"
    },
    {
     "data": {
      "image/png": "[encoded data removed]",
      "text/plain": [
       "<Figure size 432x288 with 1 Axes>"
      ]
     },
     "metadata": {
      "needs_background": "light"
     },
     "output_type": "display_data"
    }
   ],
   "source": [
    "plt.xlabel(\"Training examples\")\n",
    "plt.ylabel(\"F1 - Score\")"
   ]
  },
  {
   "cell_type": "code",
   "execution_count": 59,
   "metadata": {},
   "outputs": [
    {
     "data": {
      "image/png": "[encoded data removed]",
      "text/plain": [
       "<Figure size 432x288 with 1 Axes>"
      ]
     },
     "metadata": {
      "needs_background": "light"
     },
     "output_type": "display_data"
    }
   ],
   "source": [
    "plt.fill_between(train_sizes, train_mean - train_std, train_mean + train_std,\n",
    "alpha=0.1, color=\"r\")\n",
    "plt.fill_between(train_sizes, valid_mean - valid_std, valid_mean + valid_std,\n",
    "alpha=0.1, color=\"g\")\n",
    "plt.plot(train_sizes, train_mean, 'o-', color=\"r\", label=\"Training score\")\n",
    "plt.plot(train_sizes, valid_mean, 'o-', color=\"g\", label=\"Cross-validation score\")\n",
    "plt.legend(loc=\"best\")\n",
    "plt.title(\"Random Forest Classifier\")\n",
    "plt.show()"
   ]
  },
  {
   "cell_type": "code",
   "execution_count": 60,
   "metadata": {},
   "outputs": [],
   "source": [
    "pipe_bag = Pipeline([\n",
    "    ('scaler', StandardScaler()),\n",
    "    ('bag', BaggingClassifier())\n",
    "])"
   ]
  },
  {
   "cell_type": "code",
   "execution_count": 61,
   "metadata": {},
   "outputs": [],
   "source": [
    "n_estimators = [10,100]\n",
    "max_samples = [0.1,1,10]\n",
    "max_features = [0.1,1,10]"
   ]
  },
  {
   "cell_type": "code",
   "execution_count": 62,
   "metadata": {},
   "outputs": [
    {
     "data": {
      "text/plain": [
       "{'bag__max_features': 0.1, 'bag__max_samples': 0.1, 'bag__n_estimators': 10}"
      ]
     },
     "execution_count": 62,
     "metadata": {},
     "output_type": "execute_result"
    }
   ],
   "source": [
    "estimator = GridSearchCV(pipe_bag, dict(bag__n_estimators = n_estimators, bag__max_samples=max_samples,bag__max_features = max_features), scoring = 'f1')\n",
    "estimator = estimator.fit(X, y)\n",
    "estimator.best_score_\n",
    "estimator.best_params_"
   ]
  },
  {
   "cell_type": "code",
   "execution_count": 63,
   "metadata": {},
   "outputs": [],
   "source": [
    "pipe_bagging = pipe_bag.set_params(bag__n_estimators = 10, bag__max_samples=0.1, bag__max_features = 0.1\n",
    "                            )"
   ]
  },
  {
   "cell_type": "code",
   "execution_count": 68,
   "metadata": {},
   "outputs": [],
   "source": [
    "train_sizes, train_scores, valid_scores = learning_curve(pipe_bagging, X, y, scoring = 'f1')"
   ]
  },
  {
   "cell_type": "code",
   "execution_count": 69,
   "metadata": {},
   "outputs": [],
   "source": [
    "train_mean = np.mean(train_scores, axis=1)\n",
    "train_std = np.std(train_scores, axis=1)\n",
    "valid_mean = np.mean(valid_scores, axis=1)\n",
    "valid_std = np.std(valid_scores, axis=1)"
   ]
  },
  {
   "cell_type": "code",
   "execution_count": 70,
   "metadata": {},
   "outputs": [
    {
     "data": {
      "text/plain": [
       "Text(0, 0.5, 'F1 - Score')"
      ]
     },
     "execution_count": 70,
     "metadata": {},
     "output_type": "execute_result"
    },
    {
     "data": {
      "image/png": "[encoded data removed]",
      "text/plain": [
       "<Figure size 432x288 with 1 Axes>"
      ]
     },
     "metadata": {
      "needs_background": "light"
     },
     "output_type": "display_data"
    }
   ],
   "source": [
    "plt.xlabel(\"Training examples\")\n",
    "plt.ylabel(\"F1 - Score\")"
   ]
  },
  {
   "cell_type": "code",
   "execution_count": 71,
   "metadata": {},
   "outputs": [
    {
     "data": {
      "image/png": "[encoded data removed]",
      "text/plain": [
       "<Figure size 432x288 with 1 Axes>"
      ]
     },
     "metadata": {
      "needs_background": "light"
     },
     "output_type": "display_data"
    }
   ],
   "source": [
    "plt.fill_between(train_sizes, train_mean - train_std, train_mean + train_std,\n",
    "alpha=0.1, color=\"r\")\n",
    "plt.fill_between(train_sizes, valid_mean - valid_std, valid_mean + valid_std,\n",
    "alpha=0.1, color=\"g\")\n",
    "plt.plot(train_sizes, train_mean, 'o-', color=\"r\", label=\"Training score\")\n",
    "plt.plot(train_sizes, valid_mean, 'o-', color=\"g\", label=\"Cross-validation score\")\n",
    "plt.legend(loc=\"best\")\n",
    "plt.title(\"Bagging Classifier\")\n",
    "plt.show()"
   ]
  },
  {
   "cell_type": "code",
   "execution_count": 76,
   "metadata": {},
   "outputs": [],
   "source": [
    "pipe_overclf = Pipeline([\n",
    "    ('scaler', StandardScaler()),\n",
    "    ('pca', PCA()),\n",
    "    ('over', RandomOverSampler()),\n",
    "    ('clf', DecisionTreeClassifier())\n",
    "])"
   ]
  },
  {
   "cell_type": "code",
   "execution_count": 77,
   "metadata": {},
   "outputs": [],
   "source": [
    "sampling_strategy = ['minority',0.5]\n",
    "n_components = [5,20]\n",
    "max_depth = [5,10]"
   ]
  },
  {
   "cell_type": "code",
   "execution_count": 78,
   "metadata": {},
   "outputs": [
    {
     "data": {
      "text/plain": [
       "{'clf__max_depth': 10,\n",
       " 'over__sampling_strategy': 'minority',\n",
       " 'pca__n_components': 20}"
      ]
     },
     "execution_count": 78,
     "metadata": {},
     "output_type": "execute_result"
    }
   ],
   "source": [
    "estimator = GridSearchCV(pipe_overclf, dict(over__sampling_strategy = sampling_strategy, pca__n_components=n_components, clf__max_depth = max_depth), scoring = 'f1')\n",
    "estimator = estimator.fit(X, y)\n",
    "estimator.best_score_\n",
    "estimator.best_params_"
   ]
  },
  {
   "cell_type": "code",
   "execution_count": 79,
   "metadata": {},
   "outputs": [],
   "source": [
    "pipe_overclf = pipe_overclf.set_params(pca__n_components = 20, over__sampling_strategy = 'minority', clf__max_depth=10)"
   ]
  },
  {
   "cell_type": "code",
   "execution_count": 80,
   "metadata": {},
   "outputs": [],
   "source": [
    "train_sizes, train_scores, valid_scores = learning_curve(pipe_overclf, X, y,scoring = 'f1',cv = 5)"
   ]
  },
  {
   "cell_type": "code",
   "execution_count": 81,
   "metadata": {},
   "outputs": [],
   "source": [
    "train_mean = np.mean(train_scores, axis=1)\n",
    "train_std = np.std(train_scores, axis=1)\n",
    "valid_mean = np.mean(valid_scores, axis=1)\n",
    "valid_std = np.std(valid_scores, axis=1)"
   ]
  },
  {
   "cell_type": "code",
   "execution_count": 82,
   "metadata": {},
   "outputs": [
    {
     "data": {
      "text/plain": [
       "Text(0, 0.5, 'F1 - Score')"
      ]
     },
     "execution_count": 82,
     "metadata": {},
     "output_type": "execute_result"
    },
    {
     "data": {
      "image/png": "[encoded data removed]",
      "text/plain": [
       "<Figure size 432x288 with 1 Axes>"
      ]
     },
     "metadata": {
      "needs_background": "light"
     },
     "output_type": "display_data"
    }
   ],
   "source": [
    "plt.xlabel(\"Training examples\")\n",
    "plt.ylabel(\"F1 - Score\")"
   ]
  },
  {
   "cell_type": "code",
   "execution_count": 83,
   "metadata": {},
   "outputs": [
    {
     "data": {
      "image/png": "[encoded data removed]",
      "text/plain": [
       "<Figure size 432x288 with 1 Axes>"
      ]
     },
     "metadata": {
      "needs_background": "light"
     },
     "output_type": "display_data"
    }
   ],
   "source": [
    "plt.fill_between(train_sizes, train_mean - train_std, train_mean + train_std,\n",
    "alpha=0.1, color=\"r\")\n",
    "plt.fill_between(train_sizes, valid_mean - valid_std, valid_mean + valid_std,\n",
    "alpha=0.1, color=\"g\")\n",
    "plt.plot(train_sizes, train_mean, 'o-', color=\"r\", label=\"Training score\")\n",
    "plt.plot(train_sizes, valid_mean, 'o-', color=\"g\", label=\"Cross-validation score\")\n",
    "plt.legend(loc=\"best\")\n",
    "plt.title(\"Decision Tree Classifier by Oversampling rare classes\")\n",
    "plt.show()"
   ]
  },
  {
   "cell_type": "code",
   "execution_count": 84,
   "metadata": {},
   "outputs": [],
   "source": [
    "pipe_overrf = Pipeline([\n",
    "    ('scaler', StandardScaler()),\n",
    "    ('over', RandomOverSampler()),\n",
    "    ('rf', RandomForestClassifier())\n",
    "])"
   ]
  },
  {
   "cell_type": "code",
   "execution_count": 86,
   "metadata": {},
   "outputs": [],
   "source": [
    "sampling_strategy = ['minority',0.5]\n",
    "n_estimators = [100,1000]\n",
    "max_depth = [5,10]\n",
    "max_features = [\"log2\",\"sqrt\"]\n",
    "min_weight_fraction_leaf = [0.0,0.001]"
   ]
  },
  {
   "cell_type": "code",
   "execution_count": 87,
   "metadata": {},
   "outputs": [
    {
     "data": {
      "text/plain": [
       "{'over__sampling_strategy': 'minority',\n",
       " 'rf__max_depth': 10,\n",
       " 'rf__max_features': 'log2',\n",
       " 'rf__min_weight_fraction_leaf': 0.001,\n",
       " 'rf__n_estimators': 1000}"
      ]
     },
     "execution_count": 87,
     "metadata": {},
     "output_type": "execute_result"
    }
   ],
   "source": [
    "estimator = GridSearchCV(pipe_overrf, dict(over__sampling_strategy = sampling_strategy, rf__n_estimators = n_estimators, rf__max_depth=max_depth, rf__max_features = max_features,rf__min_weight_fraction_leaf = min_weight_fraction_leaf), scoring = 'f1')\n",
    "estimator = estimator.fit(X, y)\n",
    "estimator.best_score_\n",
    "estimator.best_params_"
   ]
  },
  {
   "cell_type": "code",
   "execution_count": 88,
   "metadata": {},
   "outputs": [],
   "source": [
    "pipe_overrf = pipe_overrf.set_params(over__sampling_strategy = 'minority', rf__n_estimators = 1000, rf__max_depth=10, rf__max_features = \"log2\",rf__min_weight_fraction_leaf = 0.001\n",
    "                            )"
   ]
  },
  {
   "cell_type": "code",
   "execution_count": 89,
   "metadata": {},
   "outputs": [],
   "source": [
    "train_sizes, train_scores, valid_scores = learning_curve(pipe_overrf, X, y, scoring = 'f1',cv=5)"
   ]
  },
  {
   "cell_type": "code",
   "execution_count": 90,
   "metadata": {},
   "outputs": [],
   "source": [
    "train_mean = np.mean(train_scores, axis=1)\n",
    "train_std = np.std(train_scores, axis=1)\n",
    "valid_mean = np.mean(valid_scores, axis=1)\n",
    "valid_std = np.std(valid_scores, axis=1)"
   ]
  },
  {
   "cell_type": "code",
   "execution_count": 91,
   "metadata": {},
   "outputs": [
    {
     "data": {
      "text/plain": [
       "Text(0, 0.5, 'F1 - Score')"
      ]
     },
     "execution_count": 91,
     "metadata": {},
     "output_type": "execute_result"
    },
    {
     "data": {
      "image/png": "[encoded data removed]",
      "text/plain": [
       "<Figure size 432x288 with 1 Axes>"
      ]
     },
     "metadata": {
      "needs_background": "light"
     },
     "output_type": "display_data"
    }
   ],
   "source": [
    "plt.xlabel(\"Training examples\")\n",
    "plt.ylabel(\"F1 - Score\")"
   ]
  },
  {
   "cell_type": "code",
   "execution_count": 92,
   "metadata": {},
   "outputs": [
    {
     "data": {
      "image/png": "[encoded data removed]",
      "text/plain": [
       "<Figure size 432x288 with 1 Axes>"
      ]
     },
     "metadata": {
      "needs_background": "light"
     },
     "output_type": "display_data"
    }
   ],
   "source": [
    "plt.fill_between(train_sizes, train_mean - train_std, train_mean + train_std,\n",
    "alpha=0.1, color=\"r\")\n",
    "plt.fill_between(train_sizes, valid_mean - valid_std, valid_mean + valid_std,\n",
    "alpha=0.1, color=\"g\")\n",
    "plt.plot(train_sizes, train_mean, 'o-', color=\"r\", label=\"Training score\")\n",
    "plt.plot(train_sizes, valid_mean, 'o-', color=\"g\", label=\"Cross-validation score\")\n",
    "plt.legend(loc=\"best\")\n",
    "plt.title(\"Random Forest Classifier with Oversampling rare class\")\n",
    "plt.show()"
   ]
  }
 ],
 "metadata": {
  "kernelspec": {
   "display_name": "Python 3",
   "language": "python",
   "name": "python3"
  },
  "language_info": {
   "codemirror_mode": {
    "name": "ipython",
    "version": 3
   },
   "file_extension": ".py",
   "mimetype": "text/x-python",
   "name": "python",
   "nbconvert_exporter": "python",
   "pygments_lexer": "ipython3",
   "version": "3.8.8"
  }
 },
 "nbformat": 4,
 "nbformat_minor": 4
}
